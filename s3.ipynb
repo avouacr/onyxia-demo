{
 "cells": [
  {
   "cell_type": "code",
   "execution_count": null,
   "id": "bb072588-af36-443f-85b2-79ae1da0e51a",
   "metadata": {},
   "outputs": [],
   "source": [
    "import os\n",
    "\n",
    "import s3fs\n",
    "import pandas as pd"
   ]
  },
  {
   "cell_type": "code",
   "execution_count": null,
   "id": "df175deb-d875-4d27-b2c5-72dd10136f0c",
   "metadata": {},
   "outputs": [],
   "source": [
    "# Create filesystem object\n",
    "S3_ENDPOINT_URL = \"https://\" + os.environ[\"AWS_S3_ENDPOINT\"]\n",
    "fs = s3fs.S3FileSystem(client_kwargs={'endpoint_url': S3_ENDPOINT_URL})"
   ]
  },
  {
   "cell_type": "markdown",
   "id": "2c94675b-bde8-484a-a6a0-89224e78beb3",
   "metadata": {},
   "source": [
    "## Lister les fichiers d'un bucket"
   ]
  },
  {
   "cell_type": "code",
   "execution_count": null,
   "id": "8bbadf9f-7b38-4fb4-b610-2885b734d9ca",
   "metadata": {},
   "outputs": [],
   "source": [
    "BUCKET = \"avouacr\"\n",
    "fs.ls(BUCKET)"
   ]
  },
  {
   "cell_type": "markdown",
   "id": "43a6e8c7-2d17-4d11-9277-711d7e84df6a",
   "metadata": {},
   "source": [
    "## Importer un fichier dans un service"
   ]
  },
  {
   "cell_type": "markdown",
   "id": "8f50f21a-ba85-4f5d-9e58-21b31d587974",
   "metadata": {},
   "source": [
    "### Mode interne - privé"
   ]
  },
  {
   "cell_type": "code",
   "execution_count": null,
   "id": "d5cbabb1-1e0c-49da-a29b-220db8351bb2",
   "metadata": {},
   "outputs": [],
   "source": [
    "BUCKET = \"avouacr\"\n",
    "FILE_KEY_S3 = \"hackathon/quakes-data.csv\"\n",
    "FILE_PATH_S3 = BUCKET + \"/\" + FILE_KEY_S3\n",
    "\n",
    "with fs.open(FILE_PATH_S3, mode=\"rb\") as file_in:\n",
    "    df = pd.read_csv(file_in, sep=\",\")"
   ]
  },
  {
   "cell_type": "code",
   "execution_count": null,
   "id": "42de1f1c-0382-497a-9198-2194611c3d0d",
   "metadata": {},
   "outputs": [],
   "source": [
    "df.head()"
   ]
  },
  {
   "cell_type": "markdown",
   "id": "5530e650-4e9f-4397-90b4-89faf9f2b4ea",
   "metadata": {},
   "source": [
    "### Mode interne - public"
   ]
  },
  {
   "cell_type": "code",
   "execution_count": null,
   "id": "067ce4ef-3e35-4998-ac4d-03860277f4b7",
   "metadata": {},
   "outputs": [],
   "source": [
    "BUCKET = \"avouacr\"\n",
    "FILE_KEY_S3 = \"diffusion/hackathon/quakes-data.csv\"\n",
    "FILE_PATH_S3 = BUCKET + \"/\" + FILE_KEY_S3\n",
    "\n",
    "with fs.open(FILE_PATH_S3, mode=\"rb\") as file_in:\n",
    "    df = pd.read_csv(file_in, sep=\",\")"
   ]
  },
  {
   "cell_type": "code",
   "execution_count": null,
   "id": "853aa3ae-336f-44df-9b73-71b13d86753e",
   "metadata": {},
   "outputs": [],
   "source": [
    "df.head()"
   ]
  },
  {
   "cell_type": "markdown",
   "id": "644404da-f224-4a69-b8ee-c7d161f26fcf",
   "metadata": {},
   "source": [
    "### Mode externe"
   ]
  },
  {
   "cell_type": "code",
   "execution_count": null,
   "id": "38b10469-8650-4d1b-b582-5a9ba5ad86f0",
   "metadata": {},
   "outputs": [],
   "source": [
    "URL = \"https://minio.lab.sspcloud.fr/avouacr/hackathon/quakes-data.csv\"\n",
    "\n",
    "df2 = pd.read_csv(URL, sep=\",\")"
   ]
  },
  {
   "cell_type": "code",
   "execution_count": null,
   "id": "206a4825-5c1c-4f04-9748-869fe072f147",
   "metadata": {},
   "outputs": [],
   "source": [
    "df2.head()"
   ]
  },
  {
   "cell_type": "markdown",
   "id": "cc6eda4f-f8f2-41f5-a5f8-4487a33b906d",
   "metadata": {},
   "source": [
    "## Exporter un fichier vers MinIO"
   ]
  },
  {
   "cell_type": "code",
   "execution_count": null,
   "id": "f6ff510e-9915-4a29-badd-3bc7d166e4ce",
   "metadata": {},
   "outputs": [],
   "source": [
    "BUCKET_OUT = \"avouacr\"\n",
    "FILE_KEY_OUT_S3 = \"diffusion/dossier-partage/quakes-data.csv\"\n",
    "FILE_PATH_OUT_S3 = BUCKET_OUT + \"/\" + FILE_KEY_OUT_S3\n",
    "\n",
    "with fs.open(FILE_PATH_OUT_S3, 'w') as file_out:\n",
    "    df.to_csv(file_out)"
   ]
  },
  {
   "cell_type": "code",
   "execution_count": null,
   "id": "b7811766-ebb0-46c5-8239-af7b53300b74",
   "metadata": {},
   "outputs": [],
   "source": []
  }
 ],
 "metadata": {
  "kernelspec": {
   "display_name": "Python 3 (ipykernel)",
   "language": "python",
   "name": "python3"
  },
  "language_info": {
   "codemirror_mode": {
    "name": "ipython",
    "version": 3
   },
   "file_extension": ".py",
   "mimetype": "text/x-python",
   "name": "python",
   "nbconvert_exporter": "python",
   "pygments_lexer": "ipython3",
   "version": "3.9.12"
  }
 },
 "nbformat": 4,
 "nbformat_minor": 5
}
